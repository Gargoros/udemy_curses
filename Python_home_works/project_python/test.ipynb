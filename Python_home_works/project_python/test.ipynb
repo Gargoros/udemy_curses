{
 "metadata": {
  "language_info": {
   "codemirror_mode": {
    "name": "ipython",
    "version": 3
   },
   "file_extension": ".py",
   "mimetype": "text/x-python",
   "name": "python",
   "nbconvert_exporter": "python",
   "pygments_lexer": "ipython3",
   "version": "3.8.5-final"
  },
  "orig_nbformat": 2,
  "kernelspec": {
   "name": "python38564bit0dc2ab8b55b446419559f3ab38a250c9",
   "display_name": "Python 3.8.5 64-bit",
   "language": "python"
  }
 },
 "nbformat": 4,
 "nbformat_minor": 2,
 "cells": [
  {
   "cell_type": "code",
   "execution_count": null,
   "metadata": {},
   "outputs": [],
   "source": [
    "import random\n",
    "number_1 = random.randint(1, 10)\n",
    "number_2 = random.randint(1, 10)\n",
    "print(str(number_1) + \" + \" + str(number_2))\n",
    "answer = input()\n",
    "if answer == number_1 + number_2:\n",
    "    print(\"Верно!\")\n",
    "else:\n",
    "    print(\"Нет! Правильный ответ - \" + str(number_1 + number_2))"
   ]
  }
 ]
}