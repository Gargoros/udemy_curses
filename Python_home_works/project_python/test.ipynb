{
 "metadata": {
  "language_info": {
   "codemirror_mode": {
    "name": "ipython",
    "version": 3
   },
   "file_extension": ".py",
   "mimetype": "text/x-python",
   "name": "python",
   "nbconvert_exporter": "python",
   "pygments_lexer": "ipython3",
   "version": "3.8.5-final"
  },
  "orig_nbformat": 2,
  "kernelspec": {
   "name": "python38564bit0dc2ab8b55b446419559f3ab38a250c9",
   "display_name": "Python 3.8.5 64-bit",
   "language": "python"
  }
 },
 "nbformat": 4,
 "nbformat_minor": 2,
 "cells": [
  {
   "cell_type": "code",
   "execution_count": 1,
   "metadata": {},
   "outputs": [
    {
     "output_type": "execute_result",
     "data": {
      "text/plain": [
       "12"
      ]
     },
     "metadata": {},
     "execution_count": 1
    }
   ],
   "source": [
    "s = 12\n",
    "s"
   ]
  },
  {
   "cell_type": "code",
   "execution_count": 2,
   "metadata": {},
   "outputs": [],
   "source": [
    "s = input()"
   ]
  },
  {
   "cell_type": "code",
   "execution_count": 3,
   "metadata": {},
   "outputs": [],
   "source": [
    "def cave():\n",
    "    while True:\n",
    "        player_select = input(\"\\nВ какую пещеру вы войдете?  (нажмите клавишу 1 или 2)\\n\")\n",
    "        try:\n",
    "            player_select = int(player_select)\n",
    "            if player_select not in range(1, 3):\n",
    "                print(\"\\nПещер на вашем пути только две! Решите в какую вы войдете! И нажмите цифру 1 или 2!\\n\")\n",
    "            else:\n",
    "                break\n",
    "        except ValueError:\n",
    "            print(\"\\nЭто не похоже на цифру! Попробуй еще раз!\\n\")\n",
    "    return player_select"
   ]
  },
  {
   "cell_type": "code",
   "execution_count": 4,
   "metadata": {},
   "outputs": [
    {
     "output_type": "stream",
     "name": "stdout",
     "text": [
      "\n",
      "Это не похоже на цифру! Попробуй еще раз!\n",
      "\n",
      "\n",
      "Пещер на вашем пути только две! Решите в какую вы войдете! И нажмите цифру 1 или 2!\n",
      "\n"
     ]
    },
    {
     "output_type": "execute_result",
     "data": {
      "text/plain": [
       "1"
      ]
     },
     "metadata": {},
     "execution_count": 4
    }
   ],
   "source": [
    "cave()"
   ]
  },
  {
   "cell_type": "code",
   "execution_count": null,
   "metadata": {},
   "outputs": [],
   "source": []
  }
 ]
}