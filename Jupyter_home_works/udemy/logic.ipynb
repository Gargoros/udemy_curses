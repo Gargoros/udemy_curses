{
 "metadata": {
  "language_info": {
   "codemirror_mode": {
    "name": "ipython",
    "version": 3
   },
   "file_extension": ".py",
   "mimetype": "text/x-python",
   "name": "python",
   "nbconvert_exporter": "python",
   "pygments_lexer": "ipython3",
   "version": "3.8.6-final"
  },
  "orig_nbformat": 2,
  "kernelspec": {
   "name": "python38664bit4abc72317d7b4f51a2522ae53bd54a4e",
   "display_name": "Python 3.8.6 64-bit",
   "language": "python"
  }
 },
 "nbformat": 4,
 "nbformat_minor": 2,
 "cells": [
  {
   "cell_type": "code",
   "execution_count": 2,
   "metadata": {},
   "outputs": [
    {
     "output_type": "stream",
     "name": "stdout",
     "text": [
      "Indeed, true.\n"
     ]
    }
   ],
   "source": [
    "if True:\n",
    "    print(\"Indeed, true.\")"
   ]
  },
  {
   "cell_type": "code",
   "execution_count": 3,
   "metadata": {},
   "outputs": [
    {
     "output_type": "stream",
     "name": "stdout",
     "text": [
      "3 > 2\n"
     ]
    }
   ],
   "source": [
    "if 3 > 2:\n",
    "    print(\"3 > 2\")"
   ]
  },
  {
   "cell_type": "code",
   "execution_count": 4,
   "metadata": {},
   "outputs": [],
   "source": [
    "if 3 < 2:\n",
    "    print(3 < 2)"
   ]
  },
  {
   "cell_type": "code",
   "execution_count": 5,
   "metadata": {},
   "outputs": [
    {
     "output_type": "stream",
     "name": "stdout",
     "text": [
      "Look, it's admin.\n"
     ]
    }
   ],
   "source": [
    "is_admin = True\n",
    "\n",
    "if is_admin:\n",
    "    print(\"Look, it's admin.\")"
   ]
  },
  {
   "cell_type": "code",
   "execution_count": 7,
   "metadata": {},
   "outputs": [
    {
     "output_type": "stream",
     "name": "stdout",
     "text": [
      "Hmm...it seems we have a new race.\n"
     ]
    }
   ],
   "source": [
    "selected_character = input()\n",
    "\n",
    "if selected_character == \"Protos\":\n",
    "    print(\"Protos is the most powerful race\")\n",
    "elif selected_character == \"Zerg\":\n",
    "    print(\"Zerg is the weak race, but it spreads like a plague\")\n",
    "elif selected_character == \"Terrain\":\n",
    "    print(\"Terrain is a race balanced between Zerg and Protos\")\n",
    "else:\n",
    "    print(\"Hmm...it seems we have a new race.\")"
   ]
  },
  {
   "cell_type": "code",
   "execution_count": 9,
   "metadata": {},
   "outputs": [
    {
     "output_type": "stream",
     "name": "stdout",
     "text": [
      "Zerg is the weak race, but it spreads like a plague\n"
     ]
    }
   ],
   "source": [
    "selected_character = input()\n",
    "\n",
    "if selected_character == \"Protos\":\n",
    "    print(\"Protos is the most powerful race\")\n",
    "elif selected_character == \"Zerg\":\n",
    "    print(\"Zerg is the weak race, but it spreads like a plague\")\n",
    "elif selected_character == \"Terrain\":\n",
    "    print(\"Terrain is a race balanced between Zerg and Protos\")\n",
    "else:\n",
    "    print(\"Hmm...it seems we have a new race.\")"
   ]
  },
  {
   "cell_type": "code",
   "execution_count": null,
   "metadata": {},
   "outputs": [],
   "source": []
  }
 ]
}