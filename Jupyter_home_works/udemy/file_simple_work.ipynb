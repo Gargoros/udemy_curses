{
 "metadata": {
  "language_info": {
   "codemirror_mode": {
    "name": "ipython",
    "version": 3
   },
   "file_extension": ".py",
   "mimetype": "text/x-python",
   "name": "python",
   "nbconvert_exporter": "python",
   "pygments_lexer": "ipython3",
   "version": "3.8.6-final"
  },
  "orig_nbformat": 2,
  "kernelspec": {
   "name": "python38664bit4abc72317d7b4f51a2522ae53bd54a4e",
   "display_name": "Python 3.8.6 64-bit"
  }
 },
 "nbformat": 4,
 "nbformat_minor": 2,
 "cells": [
  {
   "cell_type": "code",
   "execution_count": 1,
   "metadata": {},
   "outputs": [
    {
     "output_type": "execute_result",
     "data": {
      "text/plain": [
       "'/home/aldnur/Учеба/Язык программирования/udemy_curses/Python_curses/Jupyter_home_works/udemy'"
      ]
     },
     "metadata": {},
     "execution_count": 1
    }
   ],
   "source": [
    "pwd"
   ]
  },
  {
   "cell_type": "code",
   "execution_count": 2,
   "metadata": {},
   "outputs": [
    {
     "output_type": "stream",
     "name": "stdout",
     "text": [
      "Writing sample.txt\n"
     ]
    }
   ],
   "source": [
    "%%writefile sample.txt\n",
    "Name|Phome\n",
    "Mihail|2362\n",
    "John|1234\n",
    "Bob|5252\n",
    "Sam|1236\n",
    "Pam|5475"
   ]
  },
  {
   "cell_type": "code",
   "execution_count": 3,
   "metadata": {},
   "outputs": [
    {
     "output_type": "execute_result",
     "data": {
      "text/plain": [
       "<_io.TextIOWrapper name='sample.txt' mode='r' encoding='UTF-8'>"
      ]
     },
     "metadata": {},
     "execution_count": 3
    }
   ],
   "source": [
    "sample_file = open(\"sample.txt\")\n",
    "sample_file"
   ]
  },
  {
   "cell_type": "code",
   "execution_count": 4,
   "metadata": {},
   "outputs": [
    {
     "output_type": "stream",
     "name": "stdout",
     "text": [
      "Name|Phome\nMihail|2362\nJohn|1234\nBob|5252\nSam|1236\nPam|5475\n\n"
     ]
    }
   ],
   "source": [
    "data_sample_file = sample_file.read()\n",
    "print(data_sample_file)"
   ]
  },
  {
   "cell_type": "code",
   "execution_count": 5,
   "metadata": {},
   "outputs": [
    {
     "output_type": "stream",
     "name": "stdout",
     "text": [
      "Name|Phome\nMihail|2362\nJohn|1234\nBob|5252\nSam|1236\nPam|5475\n\n"
     ]
    }
   ],
   "source": [
    "print(data_sample_file)"
   ]
  },
  {
   "cell_type": "code",
   "execution_count": 6,
   "metadata": {},
   "outputs": [
    {
     "output_type": "stream",
     "name": "stdout",
     "text": [
      "\n"
     ]
    }
   ],
   "source": [
    "print(sample_file.read())"
   ]
  },
  {
   "cell_type": "code",
   "execution_count": 7,
   "metadata": {},
   "outputs": [
    {
     "output_type": "stream",
     "name": "stdout",
     "text": [
      "Name|Phome\nMihail|2362\nJohn|1234\nBob|5252\nSam|1236\nPam|5475\n\n"
     ]
    }
   ],
   "source": [
    "print(data_sample_file)"
   ]
  },
  {
   "cell_type": "code",
   "execution_count": 8,
   "metadata": {},
   "outputs": [
    {
     "output_type": "stream",
     "name": "stdout",
     "text": [
      "Name|Phome\nMihail|2362\nJohn|1234\nBob|5252\nSam|1236\nPam|5475\n\n"
     ]
    }
   ],
   "source": [
    "sample_file.seek(0)\n",
    "print(sample_file.read())"
   ]
  },
  {
   "cell_type": "code",
   "execution_count": 9,
   "metadata": {},
   "outputs": [
    {
     "output_type": "stream",
     "name": "stdout",
     "text": [
      "Name|Phome\nMihail|2362\nJohn|1234\nBob|5252\nSam|1236\nPam|5475\n\n"
     ]
    }
   ],
   "source": [
    "sample_file.seek(0)\n",
    "print(sample_file.read())"
   ]
  },
  {
   "cell_type": "code",
   "execution_count": 10,
   "metadata": {},
   "outputs": [
    {
     "output_type": "stream",
     "name": "stdout",
     "text": [
      "<class 'str'>\n"
     ]
    }
   ],
   "source": [
    "print(type(data_sample_file))"
   ]
  },
  {
   "cell_type": "code",
   "execution_count": 11,
   "metadata": {},
   "outputs": [
    {
     "output_type": "stream",
     "name": "stdout",
     "text": [
      "['Name|Phome\\n', 'Mihail|2362\\n', 'John|1234\\n', 'Bob|5252\\n', 'Sam|1236\\n', 'Pam|5475\\n']\n"
     ]
    }
   ],
   "source": [
    "sample_file.seek(0)\n",
    "file_lines = sample_file.readlines()\n",
    "print(file_lines)\n"
   ]
  },
  {
   "cell_type": "code",
   "execution_count": 12,
   "metadata": {},
   "outputs": [
    {
     "output_type": "execute_result",
     "data": {
      "text/plain": [
       "0"
      ]
     },
     "metadata": {},
     "execution_count": 12
    }
   ],
   "source": [
    "sample_file.seek(0)"
   ]
  },
  {
   "cell_type": "code",
   "execution_count": 13,
   "metadata": {},
   "outputs": [
    {
     "output_type": "stream",
     "name": "stdout",
     "text": [
      "['Name|Phome\\n', 'Mihail|2362\\n', 'John|1234\\n', 'Bob|5252\\n', 'Sam|1236\\n', 'Pam|5475\\n']\n"
     ]
    }
   ],
   "source": [
    "print(file_lines)"
   ]
  },
  {
   "cell_type": "code",
   "execution_count": 14,
   "metadata": {},
   "outputs": [
    {
     "output_type": "stream",
     "name": "stdout",
     "text": [
      "<_io.TextIOWrapper name='sample.txt' mode='r' encoding='UTF-8'>\n"
     ]
    }
   ],
   "source": [
    "print(sample_file)"
   ]
  },
  {
   "cell_type": "code",
   "execution_count": 15,
   "metadata": {},
   "outputs": [
    {
     "output_type": "stream",
     "name": "stdout",
     "text": [
      "Name|Phome\nMihail|2362\nJohn|1234\nBob|5252\nSam|1236\nPam|5475\n\n"
     ]
    }
   ],
   "source": [
    "print(data_sample_file)"
   ]
  },
  {
   "cell_type": "code",
   "execution_count": 16,
   "metadata": {},
   "outputs": [
    {
     "output_type": "execute_result",
     "data": {
      "text/plain": [
       "0"
      ]
     },
     "metadata": {},
     "execution_count": 16
    }
   ],
   "source": [
    "sample_file.seek(0)"
   ]
  },
  {
   "cell_type": "code",
   "execution_count": 17,
   "metadata": {},
   "outputs": [
    {
     "output_type": "stream",
     "name": "stdout",
     "text": [
      "<class 'list'>\n6\n"
     ]
    }
   ],
   "source": [
    "print(type(file_lines))\n",
    "print(len(file_lines))\n"
   ]
  },
  {
   "cell_type": "code",
   "execution_count": 18,
   "metadata": {},
   "outputs": [
    {
     "output_type": "error",
     "ename": "FileNotFoundError",
     "evalue": "[Errno 2] No such file or directory: '/home/aldnur/Учеба/Язык программирования/udemy_curses/Python_curses/sample.txt'",
     "traceback": [
      "\u001b[0;31m---------------------------------------------------------------------------\u001b[0m",
      "\u001b[0;31mFileNotFoundError\u001b[0m                         Traceback (most recent call last)",
      "\u001b[0;32m<ipython-input-18-6dded2a150ee>\u001b[0m in \u001b[0;36m<module>\u001b[0;34m\u001b[0m\n\u001b[0;32m----> 1\u001b[0;31m \u001b[0msample_file_2\u001b[0m \u001b[0;34m=\u001b[0m \u001b[0mopen\u001b[0m\u001b[0;34m(\u001b[0m\u001b[0;34m\"/home/aldnur/Учеба/Язык программирования/udemy_curses/Python_curses/sample.txt\"\u001b[0m\u001b[0;34m)\u001b[0m\u001b[0;34m\u001b[0m\u001b[0;34m\u001b[0m\u001b[0m\n\u001b[0m",
      "\u001b[0;31mFileNotFoundError\u001b[0m: [Errno 2] No such file or directory: '/home/aldnur/Учеба/Язык программирования/udemy_curses/Python_curses/sample.txt'"
     ]
    }
   ],
   "source": [
    "sample_file_2 = open(\"/home/aldnur/Учеба/Язык программирования/udemy_curses/Python_curses/sample.txt\")"
   ]
  },
  {
   "cell_type": "code",
   "execution_count": 19,
   "metadata": {},
   "outputs": [],
   "source": [
    "sample_file_2_close = sample_file_2.close()\n",
    "sample_file_close = sample_file.close()"
   ]
  },
  {
   "cell_type": "code",
   "execution_count": 20,
   "metadata": {},
   "outputs": [
    {
     "output_type": "stream",
     "name": "stdout",
     "text": [
      "None\nNone\n"
     ]
    }
   ],
   "source": [
    "print(sample_file.close())\n",
    "print(sample_file_2.close())"
   ]
  },
  {
   "cell_type": "code",
   "execution_count": 21,
   "metadata": {},
   "outputs": [],
   "source": [
    "with open (\"sample.txt\") as sample_file:\n",
    "    data_sample_file = sample_file.read()"
   ]
  },
  {
   "cell_type": "code",
   "execution_count": 22,
   "metadata": {},
   "outputs": [
    {
     "output_type": "stream",
     "name": "stdout",
     "text": [
      "Name|Phome\nMihail|2362\nJohn|1234\nBob|5252\nSam|1236\nPam|5475\n\n"
     ]
    }
   ],
   "source": [
    "print(data_sample_file)"
   ]
  },
  {
   "cell_type": "code",
   "execution_count": 23,
   "metadata": {},
   "outputs": [],
   "source": [
    "with open (\"sample.txt\", mode = \"a\") as sample_file:\n",
    "    data = sample_file.write(\"Eric|4564\")"
   ]
  },
  {
   "cell_type": "code",
   "execution_count": 24,
   "metadata": {},
   "outputs": [],
   "source": [
    "with open (\"sample.txt\", mode = \"r\") as sample_file:\n",
    "    data = sample_file.read()"
   ]
  },
  {
   "cell_type": "code",
   "execution_count": 25,
   "metadata": {},
   "outputs": [
    {
     "output_type": "stream",
     "name": "stdout",
     "text": [
      "Name|Phome\nMihail|2362\nJohn|1234\nBob|5252\nSam|1236\nPam|5475\nEric|4564\n"
     ]
    }
   ],
   "source": [
    "print(data)"
   ]
  },
  {
   "cell_type": "code",
   "execution_count": 27,
   "metadata": {},
   "outputs": [
    {
     "output_type": "stream",
     "name": "stdout",
     "text": [
      "Name|Phome\nMihail|2362\nJohn|1234\nBob|5252\nSam|1236\nPam|5475\nEric|4564Data|2454\nData|2454\n"
     ]
    }
   ],
   "source": [
    "with open (\"sample.txt\", mode = \"r+\") as sample_file:\n",
    "    sample_file.seek(0, 2)\n",
    "    sample_file.write(\"\\nData|2454\")\n",
    "    sample_file.seek(0)\n",
    "    print(sample_file.read())"
   ]
  },
  {
   "cell_type": "code",
   "execution_count": 19,
   "metadata": {},
   "outputs": [
    {
     "output_type": "stream",
     "name": "stdout",
     "text": [
      "ABRA-CA-DABRA\n"
     ]
    }
   ],
   "source": [
    "with open (\"ABRACADABRA.txt\", mode = \"w+\") as spell_file:\n",
    "    spell_file.write(\"ABRA-CA-DABRA\")\n",
    "    spell_file.seek(0)\n",
    "    print(spell_file.read())"
   ]
  },
  {
   "cell_type": "code",
   "execution_count": null,
   "metadata": {},
   "outputs": [],
   "source": []
  }
 ]
}