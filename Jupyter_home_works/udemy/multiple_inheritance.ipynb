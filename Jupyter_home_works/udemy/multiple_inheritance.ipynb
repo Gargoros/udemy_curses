{
 "metadata": {
  "language_info": {
   "codemirror_mode": {
    "name": "ipython",
    "version": 3
   },
   "file_extension": ".py",
   "mimetype": "text/x-python",
   "name": "python",
   "nbconvert_exporter": "python",
   "pygments_lexer": "ipython3",
   "version": "3.9.1-final"
  },
  "orig_nbformat": 2,
  "kernelspec": {
   "name": "python39164bita44547872d334d5b8b756e5fde835d2e",
   "display_name": "Python 3.9.1 64-bit",
   "language": "python"
  }
 },
 "nbformat": 4,
 "nbformat_minor": 2,
 "cells": [
  {
   "cell_type": "code",
   "execution_count": 1,
   "metadata": {},
   "outputs": [],
   "source": [
    "class Animal():\n",
    "    def die(self):\n",
    "        print(\"bye - bye\")\n",
    "        self.heath = 0\n",
    "\n",
    "class Carnivor():\n",
    "    def hunt(self):\n",
    "        print(\"eating\")\n",
    "        self.satiety = 100\n",
    "\n",
    "class Dog(Animal, Carnivor):\n",
    "    def bark(self):\n",
    "        print(\"woof - woof\")"
   ]
  },
  {
   "cell_type": "code",
   "execution_count": 2,
   "metadata": {},
   "outputs": [
    {
     "output_type": "stream",
     "name": "stdout",
     "text": [
      "woof - woof\nNone\neating\nNone\nbye - bye\nNone\n"
     ]
    }
   ],
   "source": [
    "dog = Dog()\n",
    "print(dog.bark())\n",
    "print(dog.hunt())\n",
    "print(dog.die())"
   ]
  },
  {
   "cell_type": "code",
   "execution_count": 3,
   "metadata": {},
   "outputs": [],
   "source": [
    "class Animal():\n",
    "    def set_health(self, health):\n",
    "        print(\"set in animal\")\n",
    "\n",
    "class Carnivor(Animal):\n",
    "    def set_health(self, health):\n",
    "        print(\"set in carnivor\")\n",
    "\n",
    "class Memmal(Animal):\n",
    "    def set_health(self, health):\n",
    "        print(\"set in memmal\")\n",
    "\n",
    "class Dog(Memmal, Carnivor):\n",
    "    pass"
   ]
  },
  {
   "cell_type": "code",
   "execution_count": 4,
   "metadata": {},
   "outputs": [
    {
     "output_type": "stream",
     "name": "stdout",
     "text": [
      "set in memmal\n"
     ]
    }
   ],
   "source": [
    "dog = Dog()\n",
    "dog.set_health(10)"
   ]
  },
  {
   "cell_type": "code",
   "execution_count": 5,
   "metadata": {},
   "outputs": [],
   "source": [
    "class Animal():\n",
    "    def set_health(self, health):\n",
    "        print(\"set in animal\")\n",
    "\n",
    "class Carnivor(Animal):\n",
    "    def set_health(self, health):\n",
    "        print(\"set in carnivor\")\n",
    "\n",
    "class Memmal(Animal):\n",
    "    def set_health(self, health):\n",
    "        print(\"set in memmal\")\n",
    "\n",
    "class Dog(Carnivor, Memmal):\n",
    "    pass"
   ]
  },
  {
   "cell_type": "code",
   "execution_count": 6,
   "metadata": {},
   "outputs": [
    {
     "output_type": "stream",
     "name": "stdout",
     "text": [
      "set in carnivor\n"
     ]
    }
   ],
   "source": [
    "dog = Dog()\n",
    "dog.set_health(10)"
   ]
  },
  {
   "cell_type": "code",
   "execution_count": 7,
   "metadata": {},
   "outputs": [],
   "source": [
    "class Animal():\n",
    "    def set_health(self, health):\n",
    "        print(\"set in animal\")\n",
    "\n",
    "class Carnivor(Animal):\n",
    "    def set_health(self, health):\n",
    "        print(\"set in carnivor\")\n",
    "\n",
    "class Memmal(Animal):\n",
    "    def set_health(self, health):\n",
    "        print(\"set in memmal\")\n",
    "\n",
    "class Dog(Memmal, Carnivor):\n",
    "    def set_health(self, health):\n",
    "        Memmal.set_health(self, health)\n",
    "        Carnivor.set_health(self, health)\n",
    "        Animal.set_health(self, health)\n",
    "        print(\"set in dog\")"
   ]
  },
  {
   "cell_type": "code",
   "execution_count": 8,
   "metadata": {},
   "outputs": [
    {
     "output_type": "stream",
     "name": "stdout",
     "text": [
      "set in memmal\nset in carnivor\nset in animal\nset in dog\n"
     ]
    }
   ],
   "source": [
    "dog = Dog()\n",
    "dog.set_health(10)"
   ]
  },
  {
   "cell_type": "code",
   "execution_count": 9,
   "metadata": {},
   "outputs": [],
   "source": [
    "class Animal():\n",
    "    def set_health(self, health):\n",
    "        print(\"set in animal\")\n",
    "\n",
    "class Carnivor(Animal):\n",
    "    def set_health(self, health):\n",
    "        Animal.set_health(self, health)\n",
    "        print(\"set in carnivor\")\n",
    "\n",
    "class Memmal(Animal):\n",
    "    def set_health(self, health):\n",
    "        Animal.set_health(self, health)\n",
    "        print(\"set in memmal\")\n",
    "\n",
    "class Dog(Memmal, Carnivor):\n",
    "    def set_health(self, health):\n",
    "        Memmal.set_health(self, health)\n",
    "        Carnivor.set_health(self, health)\n",
    "        print(\"set in dog\")"
   ]
  },
  {
   "cell_type": "code",
   "execution_count": 10,
   "metadata": {},
   "outputs": [
    {
     "output_type": "stream",
     "name": "stdout",
     "text": [
      "set in animal\nset in memmal\nset in animal\nset in carnivor\nset in dog\n"
     ]
    }
   ],
   "source": [
    "dog = Dog()\n",
    "dog.set_health(10)"
   ]
  },
  {
   "cell_type": "code",
   "execution_count": 11,
   "metadata": {},
   "outputs": [],
   "source": [
    "class Animal():\n",
    "    def set_health(self, health):\n",
    "        print(\"set in animal\")\n",
    "\n",
    "class Carnivor(Animal):\n",
    "    def set_health(self, health):\n",
    "        super().set_health(health)\n",
    "        print(\"set in carnivor\")\n",
    "\n",
    "class Memmal(Animal):\n",
    "    def set_health(self, health):\n",
    "        super().set_health(health)\n",
    "        print(\"set in memmal\")\n",
    "\n",
    "class Dog(Memmal, Carnivor):\n",
    "    def set_health(self, health):\n",
    "        super().set_health(health)\n",
    "        print(\"set in dog\")"
   ]
  },
  {
   "cell_type": "code",
   "execution_count": 12,
   "metadata": {},
   "outputs": [
    {
     "output_type": "stream",
     "name": "stdout",
     "text": [
      "set in animal\nset in carnivor\nset in memmal\nset in dog\n"
     ]
    }
   ],
   "source": [
    "dog = Dog()\n",
    "dog.set_health(10)"
   ]
  },
  {
   "cell_type": "code",
   "execution_count": 13,
   "metadata": {},
   "outputs": [],
   "source": [
    "class Animal():\n",
    "    def __init__(self):\n",
    "        self.health = 100\n",
    "\n",
    "    def hit(self, damage):\n",
    "        self.health -= damage\n",
    "\n",
    "class Carnivor(Animal):\n",
    "    def __init__(self):\n",
    "        super().__init__()\n",
    "        self.legs = 4"
   ]
  },
  {
   "cell_type": "code",
   "execution_count": 14,
   "metadata": {},
   "outputs": [],
   "source": [
    "c = Carnivor()"
   ]
  },
  {
   "cell_type": "code",
   "execution_count": 16,
   "metadata": {},
   "outputs": [
    {
     "output_type": "execute_result",
     "data": {
      "text/plain": [
       "60"
      ]
     },
     "metadata": {},
     "execution_count": 16
    }
   ],
   "source": [
    "c.hit(20)\n",
    "c.health"
   ]
  },
  {
   "cell_type": "code",
   "execution_count": null,
   "metadata": {},
   "outputs": [],
   "source": []
  }
 ]
}