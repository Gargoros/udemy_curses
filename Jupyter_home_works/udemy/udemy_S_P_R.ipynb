{
 "metadata": {
  "language_info": {
   "codemirror_mode": {
    "name": "ipython",
    "version": 3
   },
   "file_extension": ".py",
   "mimetype": "text/x-python",
   "name": "python",
   "nbconvert_exporter": "python",
   "pygments_lexer": "ipython3",
   "version": "3.8.6-final"
  },
  "orig_nbformat": 2,
  "kernelspec": {
   "name": "python38664bit4abc72317d7b4f51a2522ae53bd54a4e",
   "display_name": "Python 3.8.6 64-bit",
   "language": "python"
  }
 },
 "nbformat": 4,
 "nbformat_minor": 2,
 "cells": [
  {
   "cell_type": "code",
   "execution_count": 3,
   "metadata": {},
   "outputs": [
    {
     "output_type": "stream",
     "name": "stdout",
     "text": [
      "Comp choise = s\n",
      "A draw\n",
      "Comp choise = s\n",
      "Comp wins\n",
      "Comp choise = r\n",
      "Comp wins\n"
     ]
    }
   ],
   "source": [
    "import random\n",
    "\n",
    "should_continue = True\n",
    "\n",
    "while should_continue:\n",
    "    player_choise = input(\"Player chose: [R, S, P]\".lower())\n",
    "    \n",
    "    if player_choise not in ['r', 's', 'p']:\n",
    "        print(\"Incorrect input. Try again!\")\n",
    "        continue\n",
    "\n",
    "    gen = {1:\"r\", 2:'s', 3:'p'}\n",
    "    comp_choise = gen[random.randint(1, 3)]\n",
    "\n",
    "    print(f\"Comp choise = {comp_choise}\")\n",
    "\n",
    "    wining_combinations = [('p', 'r'), ('r','s'), ('s', 'p')]\n",
    "\n",
    "    if player_choise == comp_choise:\n",
    "        print(\"A draw\")\n",
    "    elif (player_choise, comp_choise) in wining_combinations:\n",
    "        print(\"Player wins\")\n",
    "    else:\n",
    "        print(\"Comp wins\")\n",
    "\n",
    "    should_continue = input(\"Want to proceed? [y/n]\").lower() == 'y'"
   ]
  },
  {
   "cell_type": "code",
   "execution_count": null,
   "metadata": {},
   "outputs": [],
   "source": []
  }
 ]
}