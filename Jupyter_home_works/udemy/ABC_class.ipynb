{
 "metadata": {
  "language_info": {
   "codemirror_mode": {
    "name": "ipython",
    "version": 3
   },
   "file_extension": ".py",
   "mimetype": "text/x-python",
   "name": "python",
   "nbconvert_exporter": "python",
   "pygments_lexer": "ipython3",
   "version": "3.8.5-final"
  },
  "orig_nbformat": 2,
  "kernelspec": {
   "name": "python38564bit0dc2ab8b55b446419559f3ab38a250c9",
   "display_name": "Python 3.8.5 64-bit",
   "language": "python"
  }
 },
 "nbformat": 4,
 "nbformat_minor": 2,
 "cells": [
  {
   "cell_type": "code",
   "execution_count": 4,
   "metadata": {},
   "outputs": [],
   "source": [
    "from abc import ABC\n",
    "from abc import abstractclassmethod\n",
    "import math\n"
   ]
  },
  {
   "cell_type": "code",
   "execution_count": 5,
   "metadata": {},
   "outputs": [],
   "source": [
    "class Shape(ABC):\n",
    "\n",
    "    def __init__(self):\n",
    "        super().__init__()\n",
    "\n",
    "    def draw(self):\n",
    "        pass\n",
    "\n",
    "@abstractclassmethod\n",
    "def ares(self):\n",
    "    pass\n",
    "\n",
    "@abstractclassmethod\n",
    "def perimeter(self):\n",
    "    print(\"calc perimeter\")\n",
    "    \n",
    "def drag(self):\n",
    "    print(\"Basic dragging functionality\")\n",
    "    "
   ]
  },
  {
   "cell_type": "code",
   "execution_count": 8,
   "metadata": {},
   "outputs": [],
   "source": [
    "class Triangle(Shape):\n",
    "\n",
    "    def __init__(self, a, b, c):\n",
    "        self.a = a\n",
    "        self.b = b\n",
    "        self.c = c\n",
    "\n",
    "    def draw(self):\n",
    "        print(f\"Drawing triangle with sides = {self.a}, {self.b}, {self.c}\")\n",
    "\n",
    "    def area(self):\n",
    "        s = (self.a + self.b + self.c) / 2\n",
    "        return math.sqrt(s * (s - self.a) * (s - self.b) * (s - self.c) )\n",
    "\n",
    "    def perimeter(self):\n",
    "        return (self.a + self.b + self.c)\n",
    "\n",
    "    def drag(self):\n",
    "        super().drag()\n",
    "        print(\"Additional action\")"
   ]
  },
  {
   "cell_type": "code",
   "execution_count": 9,
   "metadata": {},
   "outputs": [],
   "source": [
    "triangle = Triangle(10, 10, 10)"
   ]
  },
  {
   "cell_type": "code",
   "execution_count": 14,
   "metadata": {},
   "outputs": [
    {
     "output_type": "execute_result",
     "data": {
      "text/plain": [
       "43.30127018922193"
      ]
     },
     "metadata": {},
     "execution_count": 14
    }
   ],
   "source": [
    "triangle.perimeter()\n",
    "triangle.area()"
   ]
  },
  {
   "cell_type": "code",
   "execution_count": null,
   "metadata": {},
   "outputs": [],
   "source": []
  }
 ]
}