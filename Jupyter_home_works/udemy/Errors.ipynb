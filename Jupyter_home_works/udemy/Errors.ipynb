{
 "metadata": {
  "language_info": {
   "codemirror_mode": {
    "name": "ipython",
    "version": 3
   },
   "file_extension": ".py",
   "mimetype": "text/x-python",
   "name": "python",
   "nbconvert_exporter": "python",
   "pygments_lexer": "ipython3",
   "version": "3.9.1-final"
  },
  "orig_nbformat": 2,
  "kernelspec": {
   "name": "python39164bita44547872d334d5b8b756e5fde835d2e",
   "display_name": "Python 3.9.1 64-bit",
   "language": "python"
  }
 },
 "nbformat": 4,
 "nbformat_minor": 2,
 "cells": [
  {
   "cell_type": "code",
   "execution_count": 8,
   "metadata": {},
   "outputs": [],
   "source": [
    "def devide(a, b):\n",
    "    try:\n",
    "        return a / b\n",
    "    except ZeroDivisionError as ex :\n",
    "        print(f'an error occured: {ex}')\n",
    "    except:\n",
    "        print('unknown error occred')"
   ]
  },
  {
   "cell_type": "code",
   "execution_count": 9,
   "metadata": {},
   "outputs": [
    {
     "output_type": "execute_result",
     "data": {
      "text/plain": [
       "2.0"
      ]
     },
     "metadata": {},
     "execution_count": 9
    }
   ],
   "source": [
    "devide(4, 2)"
   ]
  },
  {
   "cell_type": "code",
   "execution_count": 10,
   "metadata": {},
   "outputs": [
    {
     "output_type": "stream",
     "name": "stdout",
     "text": [
      "an error occured: division by zero\n"
     ]
    }
   ],
   "source": [
    "devide(4, 0)"
   ]
  },
  {
   "cell_type": "code",
   "execution_count": 11,
   "metadata": {},
   "outputs": [
    {
     "output_type": "stream",
     "name": "stdout",
     "text": [
      "unknown error occred\n"
     ]
    }
   ],
   "source": [
    "devider = input()\n",
    "devide(4, devider)"
   ]
  },
  {
   "cell_type": "code",
   "execution_count": 14,
   "metadata": {},
   "outputs": [
    {
     "output_type": "stream",
     "name": "stdout",
     "text": [
      "Error has occured No such file or directory\nFinally\ndoing some work here\n"
     ]
    }
   ],
   "source": [
    "file = None\n",
    "\n",
    "try:\n",
    "    file = open(r\"C:\\tmp\\abracadabra.txt\")\n",
    "    data = file.read()\n",
    "except FileNotFoundError as ex:\n",
    "    print(f\"Error has occured {ex.strerror}\")\n",
    "else:\n",
    "    print(\"maybe else?\")\n",
    "finally:\n",
    "    print(\"Finally\")\n",
    "    if file:\n",
    "        file.close()\n",
    "\n",
    "print(\"doing some work here\")"
   ]
  },
  {
   "cell_type": "code",
   "execution_count": 17,
   "metadata": {},
   "outputs": [],
   "source": [
    "def get_int():\n",
    "    while True:\n",
    "        try:\n",
    "            reply = int(input(\"enter a number... \"))\n",
    "            return reply\n",
    "        except:\n",
    "            print(\"not a number, try again.\")\n",
    "            continue"
   ]
  },
  {
   "cell_type": "code",
   "execution_count": 19,
   "metadata": {},
   "outputs": [
    {
     "output_type": "stream",
     "name": "stdout",
     "text": [
      "not a number, try again.\n",
      "not a number, try again.\n",
      "not a number, try again.\n"
     ]
    },
    {
     "output_type": "execute_result",
     "data": {
      "text/plain": [
       "2"
      ]
     },
     "metadata": {},
     "execution_count": 19
    }
   ],
   "source": [
    "number = get_int()\n",
    "number"
   ]
  },
  {
   "cell_type": "code",
   "execution_count": null,
   "metadata": {},
   "outputs": [],
   "source": []
  }
 ]
}