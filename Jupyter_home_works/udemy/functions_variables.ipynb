{
 "metadata": {
  "language_info": {
   "codemirror_mode": {
    "name": "ipython",
    "version": 3
   },
   "file_extension": ".py",
   "mimetype": "text/x-python",
   "name": "python",
   "nbconvert_exporter": "python",
   "pygments_lexer": "ipython3",
   "version": "3.8.6-final"
  },
  "orig_nbformat": 2,
  "kernelspec": {
   "name": "python38664bit4abc72317d7b4f51a2522ae53bd54a4e",
   "display_name": "Python 3.8.6 64-bit",
   "language": "python"
  }
 },
 "nbformat": 4,
 "nbformat_minor": 2,
 "cells": [
  {
   "cell_type": "code",
   "execution_count": 3,
   "metadata": {},
   "outputs": [],
   "source": [
    "greeting = \"Hello from the global scope\"\n",
    "\n",
    "def greet():\n",
    "    greeting = \"Hello from enclosing scope\"\n",
    "\n",
    "    def nested():\n",
    "        greeting = \"Hello from local scope\"\n",
    "        print(greeting)\n",
    "    nested()"
   ]
  },
  {
   "cell_type": "code",
   "execution_count": 4,
   "metadata": {},
   "outputs": [
    {
     "output_type": "stream",
     "name": "stdout",
     "text": [
      "Hello from enclosing scope\nHello from the global scope\n"
     ]
    }
   ],
   "source": [
    "greet()\n",
    "print(greeting)"
   ]
  },
  {
   "cell_type": "code",
   "execution_count": 6,
   "metadata": {},
   "outputs": [
    {
     "output_type": "stream",
     "name": "stdout",
     "text": [
      "Hello from enclosing scope\nHello from the global scope\n"
     ]
    }
   ],
   "source": [
    "greeting = \"Hello from the global scope\"\n",
    "\n",
    "def greet():\n",
    "    greeting = \"Hello from enclosing scope\"\n",
    "\n",
    "    def nested():\n",
    "        #greeting = \"Hello from local scope\"\n",
    "        print(greeting)\n",
    "    nested()\n",
    "\n",
    "greet()\n",
    "print(greeting)"
   ]
  },
  {
   "cell_type": "code",
   "execution_count": 7,
   "metadata": {},
   "outputs": [
    {
     "output_type": "stream",
     "name": "stdout",
     "text": [
      "Greet in func: test\nGreet in func: Hello from enclosing scope\nHello from local scope\nHello from the global scope\n"
     ]
    }
   ],
   "source": [
    "greeting = \"Hello from the global scope\"\n",
    "\n",
    "def greet(greeting):\n",
    "    print(f\"Greet in func: {greeting}\")\n",
    "\n",
    "    greeting = \"Hello from enclosing scope\"\n",
    "    print(f\"Greet in func: {greeting}\")\n",
    "\n",
    "    def nested():\n",
    "        greeting = \"Hello from local scope\"\n",
    "        print(greeting)\n",
    "    nested()\n",
    "\n",
    "\n",
    "greet(\"test\")\n",
    "print(greeting)"
   ]
  },
  {
   "cell_type": "code",
   "execution_count": 11,
   "metadata": {},
   "outputs": [
    {
     "output_type": "stream",
     "name": "stdout",
     "text": [
      "Greet in func: Hello from the global scope\nGreet in func: Hello from enclosing scope\nHello from local scope\nHello from enclosing scope\n"
     ]
    }
   ],
   "source": [
    "greeting = \"Hello from the global scope\"\n",
    "\n",
    "def greet():\n",
    "    global greeting\n",
    "    print(f\"Greet in func: {greeting}\")\n",
    "\n",
    "    greeting = \"Hello from enclosing scope\"\n",
    "    print(f\"Greet in func: {greeting}\")\n",
    "\n",
    "    def nested():\n",
    "        greeting = \"Hello from local scope\"\n",
    "        print(greeting)\n",
    "    nested()\n",
    "\n",
    "\n",
    "greet()\n",
    "print(greeting)"
   ]
  },
  {
   "cell_type": "code",
   "execution_count": null,
   "metadata": {},
   "outputs": [],
   "source": []
  }
 ]
}