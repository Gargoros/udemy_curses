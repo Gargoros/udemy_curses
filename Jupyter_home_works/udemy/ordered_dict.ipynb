{
 "metadata": {
  "language_info": {
   "codemirror_mode": {
    "name": "ipython",
    "version": 3
   },
   "file_extension": ".py",
   "mimetype": "text/x-python",
   "name": "python",
   "nbconvert_exporter": "python",
   "pygments_lexer": "ipython3",
   "version": "3.8.6-final"
  },
  "orig_nbformat": 2,
  "kernelspec": {
   "name": "python38664bit4abc72317d7b4f51a2522ae53bd54a4e",
   "display_name": "Python 3.8.6 64-bit",
   "language": "python"
  }
 },
 "nbformat": 4,
 "nbformat_minor": 2,
 "cells": [
  {
   "cell_type": "code",
   "execution_count": 1,
   "metadata": {},
   "outputs": [],
   "source": [
    "d1 = {}\n",
    "d1[\"a\"] = \"A\"\n",
    "d1[\"b\"] = \"B\"\n",
    "d1[\"c\"] = \"C\"\n",
    "\n",
    "d2 = {}\n",
    "d2[\"b\"] = \"B\"\n",
    "d2[\"a\"] = \"A\"\n",
    "d2[\"c\"] = \"C\"\n",
    "\n",
    "d3 = {}\n",
    "d3[\"a\"] = \"A\"\n",
    "d3[\"b\"] = \"B\"\n",
    "d3[\"c\"] = \"C\""
   ]
  },
  {
   "cell_type": "code",
   "execution_count": 2,
   "metadata": {},
   "outputs": [
    {
     "output_type": "execute_result",
     "data": {
      "text/plain": [
       "True"
      ]
     },
     "metadata": {},
     "execution_count": 2
    }
   ],
   "source": [
    "d1 == d2 and d2 == d3"
   ]
  },
  {
   "cell_type": "code",
   "execution_count": 3,
   "metadata": {},
   "outputs": [
    {
     "output_type": "stream",
     "name": "stdout",
     "text": [
      "a A\nb B\nc C\n"
     ]
    }
   ],
   "source": [
    "for k, v in d1.items():\n",
    "    print(k, v)"
   ]
  },
  {
   "cell_type": "code",
   "execution_count": 4,
   "metadata": {},
   "outputs": [],
   "source": [
    "from collections import OrderedDict"
   ]
  },
  {
   "cell_type": "code",
   "execution_count": 6,
   "metadata": {},
   "outputs": [],
   "source": [
    "d1 = OrderedDict()\n",
    "d1[\"a\"] = \"A\"\n",
    "d1[\"b\"] = \"B\"\n",
    "d1[\"c\"] = \"C\"\n",
    "\n",
    "d2 = OrderedDict()\n",
    "d2[\"b\"] = \"B\"\n",
    "d2[\"a\"] = \"A\"\n",
    "d2[\"c\"] = \"C\"\n",
    "\n",
    "d3 = OrderedDict()\n",
    "d3[\"a\"] = \"A\"\n",
    "d3[\"b\"] = \"B\"\n",
    "d3[\"c\"] = \"C\""
   ]
  },
  {
   "cell_type": "code",
   "execution_count": 7,
   "metadata": {},
   "outputs": [
    {
     "output_type": "stream",
     "name": "stdout",
     "text": [
      "False\nFalse\n"
     ]
    }
   ],
   "source": [
    "print(d1 == d2)\n",
    "print(d2 == d3)"
   ]
  },
  {
   "cell_type": "code",
   "execution_count": null,
   "metadata": {},
   "outputs": [],
   "source": []
  }
 ]
}